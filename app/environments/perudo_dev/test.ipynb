{
 "cells": [
  {
   "cell_type": "code",
   "execution_count": 18,
   "source": [
    "# guess the number: Guess a number between 1 and 10. The first agent to guess the others number wins\n",
    "\n",
    "import numpy as np\n",
    "import gym\n",
    "\n",
    "\n",
    "class NumberGuesserEnv(gym.Env):\n",
    "    def __init__(self):\n",
    "        super(NumberGuesserEnv, self).__init__()\n",
    "        self.name = 'NumberGuesser'\n",
    "\n",
    "        self.n_players = 2\n",
    "        self.current_player_num = 0\n",
    "        self.pool_size = 10\n",
    "\n",
    "        self.num_to_be_guessed = []\n",
    "\n",
    "        self.action_space = gym.spaces.Discrete(self.pool_size)\n",
    "        self.observation_space = gym.spaces.Discrete(2)\n",
    "\n",
    "        # Calling self.reset for first instance of the environment\n",
    "        self.reset()\n",
    "\n",
    "    def reset(self):\n",
    "        print(\"Game Reset\")\n",
    "        self.current_player_num = 0\n",
    "        self.num_to_be_guessed = [np.random.randint(self.pool_size)\n",
    "                               for i in range(self.n_players)]\n",
    "\n",
    "    def step(self, action):\n",
    "        # On evalue l'action et met à jour les variable d'observation en fonction\n",
    "            # si c'est pareil\n",
    "            if action == self.num_to_be_guessed[self.current_player_num]:\n",
    "                done = True\n",
    "                reward = [0, 0]\n",
    "                reward[self.current_player_num] = 1\n",
    "            if action < self.num_to_be_guessed[self.current_player_num]:\n",
    "                done = False \n",
    "                \n",
    "                \n",
    "\n",
    "            # si c'est plus \n",
    "            # si c'est moins \n",
    "\n",
    "\n",
    "        # On regarde si l'action provoque une victoire\n",
    "        # Si victoire on marque \n",
    "    \n",
    "    @property\n",
    "    def observation(self):\n",
    "        # 0 si c'est moins, 1 si c'est plus\n",
    "        pass \n",
    "\n"
   ],
   "outputs": [],
   "metadata": {}
  },
  {
   "cell_type": "code",
   "execution_count": 20,
   "source": [
    "numGuess = NumberGuesserEnv()\n",
    "\n",
    "numGuess.observation_space"
   ],
   "outputs": [
    {
     "output_type": "stream",
     "name": "stdout",
     "text": [
      "Game Reset\n"
     ]
    }
   ],
   "metadata": {}
  }
 ],
 "metadata": {
  "orig_nbformat": 4,
  "language_info": {
   "name": "python",
   "version": "3.8.10",
   "mimetype": "text/x-python",
   "codemirror_mode": {
    "name": "ipython",
    "version": 3
   },
   "pygments_lexer": "ipython3",
   "nbconvert_exporter": "python",
   "file_extension": ".py"
  },
  "kernelspec": {
   "name": "python3",
   "display_name": "Python 3.8.10 64-bit"
  },
  "interpreter": {
   "hash": "916dbcbb3f70747c44a77c7bcd40155683ae19c65e1c03b4aa3499c5328201f1"
  }
 },
 "nbformat": 4,
 "nbformat_minor": 2
}