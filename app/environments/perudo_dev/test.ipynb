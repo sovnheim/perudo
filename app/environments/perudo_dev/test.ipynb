{
 "cells": [
  {
   "cell_type": "code",
   "execution_count": 88,
   "source": [
    "# guess the number: Guess a number between 1 and 10. The first agent to guess the others number wins\n",
    "\n",
    "import numpy as np\n",
    "import gym\n",
    "\n",
    "\n",
    "class NumberGuesserEnv(gym.Env):\n",
    "    metadata = {'render.modes': ['human']}\n",
    "\n",
    "    def __init__(self):\n",
    "        super(NumberGuesserEnv, self).__init__()\n",
    "        self.name = 'NumberGuesser'\n",
    "\n",
    "        self.n_players = 2\n",
    "        self.current_player_num = 0\n",
    "        self.pool_size = 10\n",
    "\n",
    "        self.num_to_be_guessed = None\n",
    "        self.current_guess = None\n",
    "        self.guess_history = []\n",
    "\n",
    "        self.action_space = gym.spaces.Discrete(self.pool_size)\n",
    "        self.observation_space = gym.spaces.Discrete(1)\n",
    "\n",
    "        # Calling self.reset for first instance of the environment\n",
    "        self.reset()\n",
    "\n",
    "    def reset(self):\n",
    "        print(\"Game Reset\")\n",
    "        self.current_player_num = 0\n",
    "        self.num_to_be_guessed = np.random.randint(self.pool_size)\n",
    "\n",
    "    def step(self, action):\n",
    "        # On evalue l'action et met à jour les variable d'observation en fonction\n",
    "        reward = [0, 0]\n",
    "        self.current_guess = action\n",
    "        if action == self.num_to_be_guessed:\n",
    "            done = True\n",
    "            reward[self.current_player_num] = 1\n",
    "        if action != self.num_to_be_guessed:\n",
    "            done = False\n",
    "        \n",
    "        self.guess_history.append(action)\n",
    "        return self.observation, reward, done, {}\n",
    "            \n",
    "    @property\n",
    "    def observation(self):\n",
    "        # 0 si c'est moins, 1 si c'est plus\n",
    "        if self.current_guess <= self.num_to_be_guessed:\n",
    "            return np.array([0])\n",
    "        if self.current_guess > self.num_to_be_guessed:\n",
    "            return np.array([1])\n",
    "    \n",
    "    @property\n",
    "    def legal_actions(self):\n",
    "        la_array = []\n",
    "        for action in range(self.pool_size):\n",
    "            if action in self.guess_history:\n",
    "                la_array.append([action, 0])\n",
    "            if action not in self.guess_history:\n",
    "                la_array.append([action, 1])\n",
    "\n",
    "    @property\n",
    "    def render(self, mode='human', close=False):\n",
    "        if self.done:\n",
    "            print(f'GAME OVER')\n",
    "        if close:\n",
    "            return\n",
    "        else:\n",
    "            print(\n",
    "                f\"Player {self.current_player.id} guesses {self.current_guess}\")\n",
    "\n",
    "\n"
   ],
   "outputs": [],
   "metadata": {}
  },
  {
   "cell_type": "code",
   "execution_count": 86,
   "source": [
    "num = NumberGuesserEnv()\n",
    "\n",
    "print(num.num_to_be_guessed)"
   ],
   "outputs": [
    {
     "output_type": "stream",
     "name": "stdout",
     "text": [
      "Game Reset\n",
      "4\n"
     ]
    }
   ],
   "metadata": {}
  },
  {
   "cell_type": "code",
   "execution_count": 87,
   "source": [
    "num.step(3)"
   ],
   "outputs": [
    {
     "output_type": "execute_result",
     "data": {
      "text/plain": [
       "(array([0]), [0, 0], False, {})"
      ]
     },
     "metadata": {},
     "execution_count": 87
    }
   ],
   "metadata": {}
  }
 ],
 "metadata": {
  "orig_nbformat": 4,
  "language_info": {
   "name": "python",
   "version": "3.8.10",
   "mimetype": "text/x-python",
   "codemirror_mode": {
    "name": "ipython",
    "version": 3
   },
   "pygments_lexer": "ipython3",
   "nbconvert_exporter": "python",
   "file_extension": ".py"
  },
  "kernelspec": {
   "name": "python3",
   "display_name": "Python 3.8.10 64-bit"
  },
  "interpreter": {
   "hash": "916dbcbb3f70747c44a77c7bcd40155683ae19c65e1c03b4aa3499c5328201f1"
  }
 },
 "nbformat": 4,
 "nbformat_minor": 2
}